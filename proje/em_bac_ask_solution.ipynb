{
 "cells": [
  {
   "cell_type": "markdown",
   "id": "f6d8e5b4",
   "metadata": {},
   "source": [
    "# Tutorial 8 - EM Algorithm\n",
    "\n",
    "## Problem 1: EM for Binary Asymmetric Channel"
   ]
  },
  {
   "cell_type": "code",
   "execution_count": 1,
   "id": "20dc55f0",
   "metadata": {},
   "outputs": [],
   "source": [
    "import numpy as np\n",
    "import matplotlib.pyplot as plt"
   ]
  },
  {
   "cell_type": "code",
   "execution_count": 8,
   "id": "4b034ca5",
   "metadata": {},
   "outputs": [],
   "source": [
    "# Create Dataset\n",
    "num_samples = 10_000\n",
    "pX = np.array([0.2, 0.8]) \n",
    "p1 = 0.1 # Crossover probability\n",
    "p2 = 0.4  # Crossover probability\n",
    "em_iter = 100"
   ]
  },
  {
   "cell_type": "code",
   "execution_count": 9,
   "id": "1ad298be",
   "metadata": {},
   "outputs": [
    {
     "name": "stdout",
     "output_type": "stream",
     "text": [
      "Mean of X: 0.797\n"
     ]
    }
   ],
   "source": [
    "# Transmitted symbols\n",
    "X_samples = (np.random.rand(num_samples) > pX[0])\n",
    "print(f'Mean of X: {np.mean(X_samples):.3f}')"
   ]
  },
  {
   "cell_type": "code",
   "execution_count": 10,
   "id": "ad5801c5",
   "metadata": {},
   "outputs": [
    {
     "data": {
      "image/png": "[encoded data removed]",
      "text/plain": [
       "<Figure size 432x288 with 1 Axes>"
      ]
     },
     "metadata": {
      "needs_background": "light"
     },
     "output_type": "display_data"
    }
   ],
   "source": [
    "# Visualize distribution of the transmitted data\n",
    "plt.hist(X_samples.astype(int), bins=10)\n",
    "plt.show()"
   ]
  },
  {
   "cell_type": "markdown",
   "id": "06d58dd9",
   "metadata": {},
   "source": [
    "#### Simulate a binary asymmetric channel"
   ]
  },
  {
   "cell_type": "code",
   "execution_count": 11,
   "id": "087d64ff",
   "metadata": {},
   "outputs": [
    {
     "name": "stdout",
     "output_type": "stream",
     "text": [
      "Mean of Z for positions X=0: 0.11012345679012346\n",
      "Mean of Z for positions X=1: 0.39924764890282133\n"
     ]
    }
   ],
   "source": [
    "# Indices \n",
    "idx_X0 = X_samples == 0  # Indices of X=0\n",
    "num_X0 = np.sum(idx_X0)  # Count the number of 0s\n",
    "idx_X1 = np.invert(idx_X0)  # Indices of X=1\n",
    "num_X1 = num_samples - num_X0  # Count the number of 1s\n",
    "\n",
    "# Received symbols\n",
    "Y_samples = (np.random.rand(num_samples))\n",
    "Z = (np.random.rand(num_X0) <= p1)\n",
    "print(f'Mean of Z for positions X=0: {np.mean(Z)}')\n",
    "Y_samples[idx_X0] = np.logical_xor(X_samples[idx_X0], Z)\n",
    "\n",
    "Z = (np.random.rand(num_X1) <= p2)\n",
    "print(f'Mean of Z for positions X=1: {np.mean(Z)}')\n",
    "Y_samples[idx_X1] = np.logical_xor(X_samples[idx_X1], Z)"
   ]
  },
  {
   "cell_type": "markdown",
   "id": "d2b10de5",
   "metadata": {},
   "source": [
    "#### If we know form which X was transmitted each y_i it is easy to estimate p1, p2 (aka supervised setting)"
   ]
  },
  {
   "cell_type": "code",
   "execution_count": 12,
   "id": "9240980d",
   "metadata": {},
   "outputs": [
    {
     "name": "stdout",
     "output_type": "stream",
     "text": [
      "Estimate of p1: 0.11012345679012346\n",
      "Estimate of p2: 0.6007523510971787\n"
     ]
    }
   ],
   "source": [
    "print(f'Estimate of p1: {np.mean(Y_samples[idx_X0])}')\n",
    "print(f'Estimate of p2: {np.mean(Y_samples[idx_X1])}')"
   ]
  },
  {
   "cell_type": "code",
   "execution_count": 13,
   "id": "9fea3277",
   "metadata": {},
   "outputs": [],
   "source": [
    "# Function that calculates qxi for the E-step\n",
    "def calc_qxi(y, th):\n",
    "    qxi = np.zeros((y.size, 2))\n",
    "    \n",
    "    for i in range(y.size):\n",
    "        tmp0 = pX[0] * th[0] ** y[i] * (1-th[0]) ** (1-y[i])\n",
    "        tmp1 = pX[1] * th[1] ** (1-y[i]) * (1-th[1]) ** (y[i])\n",
    "        qxi[i,0] = tmp0 / (tmp0 + tmp1)\n",
    "        qxi[i,1] = tmp1 / (tmp0 + tmp1)\n",
    "    \n",
    "    return qxi"
   ]
  },
  {
   "cell_type": "markdown",
   "id": "7aef5123",
   "metadata": {},
   "source": [
    "#### Initialize and run the EM algorithm"
   ]
  },
  {
   "cell_type": "code",
   "execution_count": 15,
   "id": "78995481",
   "metadata": {},
   "outputs": [
    {
     "name": "stdout",
     "output_type": "stream",
     "text": [
      "Initialization: p1 = 0.500 and p2 = 0.500\n",
      "\n",
      "Iteration 0, Estimate: p1 = 0.501 and p2 = 0.499\n",
      "Iteration 10, Estimate: p1 = 0.501 and p2 = 0.499\n",
      "Iteration 20, Estimate: p1 = 0.501 and p2 = 0.499\n",
      "Iteration 30, Estimate: p1 = 0.501 and p2 = 0.499\n",
      "Iteration 40, Estimate: p1 = 0.501 and p2 = 0.499\n",
      "Iteration 50, Estimate: p1 = 0.501 and p2 = 0.499\n",
      "Iteration 60, Estimate: p1 = 0.501 and p2 = 0.499\n",
      "Iteration 70, Estimate: p1 = 0.501 and p2 = 0.499\n",
      "Iteration 80, Estimate: p1 = 0.501 and p2 = 0.499\n",
      "Iteration 90, Estimate: p1 = 0.501 and p2 = 0.499\n"
     ]
    }
   ],
   "source": [
    "# Initialization\n",
    "theta = np.array([0.5, 0.5])\n",
    "print(f\"Initialization: p1 = {theta[0]:.3f} and p2 = {theta[1]:.3f}\\n\")\n",
    "\n",
    "ys = Y_samples.astype(float)\n",
    "\n",
    "for i in range(em_iter):\n",
    "    ## E-Step\n",
    "    qxi = calc_qxi(ys, theta)\n",
    "\n",
    "    ## M-Step\n",
    "    theta[0] = np.sum(qxi[:,0] * ys) / np.sum(qxi[:,0])\n",
    "    theta[1] = np.sum(qxi[:,1] * (1-ys)) / np.sum(qxi[:,1])  \n",
    "    if i % 10 == 0 :\n",
    "        print(f\"Iteration {i}, Estimate: p1 = {theta[0]:.3f} and p2 = {theta[1]:.3f}\")"
   ]
  },
  {
   "cell_type": "markdown",
   "id": "5c75d519",
   "metadata": {},
   "source": [
    "## ASK "
   ]
  },
  {
   "cell_type": "code",
   "execution_count": 17,
   "id": "f1e961fc",
   "metadata": {},
   "outputs": [],
   "source": [
    "import scipy.stats"
   ]
  },
  {
   "cell_type": "markdown",
   "id": "1b566235",
   "metadata": {},
   "source": [
    "**Compute the distribution $p_Y$ of $Y$ for given $X$, $p_X$, and $\\sigma^2$** "
   ]
  },
  {
   "cell_type": "code",
   "execution_count": 18,
   "id": "8b698472",
   "metadata": {},
   "outputs": [],
   "source": [
    "def awgn_pY(y, X, pX, sigma2):\n",
    "    # reshape X as row-vector and y as column-vector for broadcasting\n",
    "    X = X.reshape((1, X.size))\n",
    "    pX = pX.reshape((1, pX.size))\n",
    "    y = y.reshape((y.size, 1))\n",
    "\n",
    "    # calculate pY\n",
    "    pY = np.sum( pX * scipy.stats.norm.pdf(y, X, np.sqrt(sigma2)), axis=1 )\n",
    "    return pY    "
   ]
  },
  {
   "cell_type": "markdown",
   "id": "0b46fd71",
   "metadata": {},
   "source": [
    "**Implement the EM Algorithm**"
   ]
  },
  {
   "cell_type": "code",
   "execution_count": 19,
   "id": "88c7bc65",
   "metadata": {},
   "outputs": [],
   "source": [
    "def em(y, X_init, pX_init, sigma2_init, delta_init, num_iter):\n",
    "    \"\"\"\n",
    "    Implements the expectation maximization algorithm for \n",
    "    a Gaussian mixture model. y should be a numpy vector\n",
    "    containing the observed samples. The variables X_init,\n",
    "    pX_init, sigma2_init, and delta_init represent the initial\n",
    "    start values for the constellations points, their probability\n",
    "    distribution, the noise variance, and the constellation\n",
    "    scaling factor delta, respectively.\n",
    "    'num_iter' defines the number of iterations.\n",
    "\n",
    "    A dictionary is returned with the fields 'x', 'px'\n",
    "    and 'sigma2'.\n",
    "    \"\"\"\n",
    "    \n",
    "    N = y.size # number of samples\n",
    "    M = X_init.size # cardinality of constellation\n",
    "    \n",
    "    # reshape and rename inputs (y as column vector, X as row vector)\n",
    "    y = y.reshape((N,1))\n",
    "    X = X_init.reshape((1,M))\n",
    "    pX = pX_init.reshape((1,M))\n",
    "    sigma2 = sigma2_init\n",
    "    delta = delta_init\n",
    "\n",
    "    \n",
    "    for it in range(num_iter):\n",
    "        #print(\"iter {}\".format(it))\n",
    "        \n",
    "        ## E-Step: Calculate auxiliary distribution Q_{X|Y}\n",
    "        ##   for all samples y_i, i=1,...,N\n",
    "        ##   with current estimates for X, pX, and sigma2\n",
    "        tmp = pX * scipy.stats.norm.pdf(y, X, np.sqrt(sigma2)) # shape (N,M)\n",
    "        Q_xy = tmp / np.sum( tmp, axis=1 ).reshape(-1,1) # sum is shape (1,N)\n",
    "        \n",
    "        ## M-Step: Optimize parameters X, pX, sigma2\n",
    "        ##     for fixed aux. distribution Q_{X|Y}\n",
    "        pX = np.sum(Q_xy, axis=0) / N\n",
    "\n",
    "        delta = np.sum( np.sum( Q_xy * (X/delta) * y ) ) / np.sum( np.sum( Q_xy * (X/delta)**2 ) )\n",
    "        X = delta * np.arange(-M+1, M+1, 2)\n",
    "\n",
    "        sigma2 = np.sum( np.sum( Q_xy * (y-X)**2 )) / N\n",
    "\n",
    "        \n",
    "        ## Debug output\n",
    "        if it % 1 == 0:\n",
    "            print(\"it {:d}: delta={:.2f}, sigma2={:.2f}, X=[\".format(it, delta, sigma2), end='')\n",
    "            for ii in range(M):\n",
    "                print(\"{:.1f} \".format(X[ii]), end='')\n",
    "            print(\"], pX=[\", end='')\n",
    "            for ii in range(M):\n",
    "                print(\"{:.2f} \".format(pX[ii]), end='')\n",
    "            print(\"]\")\n",
    "    \n",
    "    data = {'X': X, 'pX': pX, 'sigma2': sigma2, 'delta': delta}\n",
    "    return data    "
   ]
  },
  {
   "cell_type": "markdown",
   "id": "e3fc4655",
   "metadata": {},
   "source": [
    "**Define the system parameters and create samples**"
   ]
  },
  {
   "cell_type": "code",
   "execution_count": 20,
   "id": "65cc5b53",
   "metadata": {},
   "outputs": [],
   "source": [
    "M = 8\n",
    "N = 10000\n",
    "delta = 1\n",
    "SNRdB = 15\n",
    "SNR = 10**(SNRdB/10)\n",
    "\n",
    "X = np.arange(-M+1, M+1, 2)\n",
    "nu = 0.0641 # chosen to get a distribution with a selected entropy of 2.5\n",
    "pX = np.exp(-nu*X**2)\n",
    "pX = pX/np.sum(pX)\n",
    "#pX = np.ones(M)/M # uniform\n",
    "\n",
    "# generate transmit symbol samples\n",
    "x = np.random.choice(X, p=pX, size=N)\n",
    "\n",
    "# calculate sigma**2\n",
    "P = np.mean(x**2)\n",
    "sigma2 = P/SNR\n",
    "\n",
    "# simulate channel\n",
    "y = delta * x + np.random.randn(N)*np.sqrt(sigma2)"
   ]
  },
  {
   "cell_type": "code",
   "execution_count": 25,
   "id": "6159456c",
   "metadata": {},
   "outputs": [
    {
     "data": {
      "text/plain": [
       "0.2331231091076129"
      ]
     },
     "execution_count": 25,
     "metadata": {},
     "output_type": "execute_result"
    }
   ],
   "source": [
    "sigma2"
   ]
  },
  {
   "cell_type": "markdown",
   "id": "61bd6e04",
   "metadata": {},
   "source": [
    "**Plot the distribution $p_Y$ (ground truth)**"
   ]
  },
  {
   "cell_type": "code",
   "execution_count": 21,
   "id": "e501c3e1",
   "metadata": {},
   "outputs": [
    {
     "data": {
      "text/plain": [
       "array([0.01239659, 0.05773255, 0.1610027 , 0.26886816, 0.26886816,\n",
       "       0.1610027 , 0.05773255, 0.01239659])"
      ]
     },
     "execution_count": 21,
     "metadata": {},
     "output_type": "execute_result"
    }
   ],
   "source": [
    "pX"
   ]
  },
  {
   "cell_type": "code",
   "execution_count": 22,
   "id": "2b3163d9",
   "metadata": {},
   "outputs": [
    {
     "data": {
      "image/png": "[encoded data removed]",
      "text/plain": [
       "<Figure size 432x288 with 1 Axes>"
      ]
     },
     "metadata": {
      "needs_background": "light"
     },
     "output_type": "display_data"
    }
   ],
   "source": [
    "yrange = np.linspace(np.min(y), np.max(y), 1000)\n",
    "py = awgn_pY(yrange, delta*X, pX, sigma2)\n",
    "plt.plot(yrange, py)\n",
    "plt.show()"
   ]
  },
  {
   "cell_type": "markdown",
   "id": "40c88d9e",
   "metadata": {},
   "source": [
    "**Define initialization values and run EM algorithm**"
   ]
  },
  {
   "cell_type": "code",
   "execution_count": 26,
   "id": "8251d35b",
   "metadata": {},
   "outputs": [
    {
     "name": "stdout",
     "output_type": "stream",
     "text": [
      "it 0: delta=0.89, sigma2=0.93, X=[-6.2 -4.4 -2.7 -0.9 0.9 2.7 4.4 6.2 ], pX=[0.01 0.05 0.16 0.28 0.28 0.16 0.05 0.01 ]\n",
      "it 1: delta=0.92, sigma2=0.93, X=[-6.5 -4.6 -2.8 -0.9 0.9 2.8 4.6 6.5 ], pX=[0.01 0.06 0.17 0.26 0.26 0.16 0.07 0.01 ]\n",
      "it 2: delta=0.93, sigma2=0.88, X=[-6.5 -4.6 -2.8 -0.9 0.9 2.8 4.6 6.5 ], pX=[0.01 0.06 0.17 0.26 0.26 0.16 0.07 0.01 ]\n",
      "it 3: delta=0.93, sigma2=0.83, X=[-6.5 -4.7 -2.8 -0.9 0.9 2.8 4.7 6.5 ], pX=[0.01 0.06 0.17 0.26 0.26 0.16 0.07 0.01 ]\n",
      "it 4: delta=0.94, sigma2=0.76, X=[-6.6 -4.7 -2.8 -0.9 0.9 2.8 4.7 6.6 ], pX=[0.01 0.05 0.17 0.26 0.27 0.16 0.07 0.01 ]\n",
      "it 5: delta=0.95, sigma2=0.69, X=[-6.6 -4.7 -2.8 -0.9 0.9 2.8 4.7 6.6 ], pX=[0.01 0.05 0.17 0.26 0.27 0.16 0.06 0.01 ]\n",
      "it 6: delta=0.96, sigma2=0.61, X=[-6.7 -4.8 -2.9 -1.0 1.0 2.9 4.8 6.7 ], pX=[0.01 0.05 0.17 0.26 0.27 0.16 0.06 0.01 ]\n",
      "it 7: delta=0.97, sigma2=0.51, X=[-6.8 -4.8 -2.9 -1.0 1.0 2.9 4.8 6.8 ], pX=[0.01 0.05 0.17 0.26 0.27 0.16 0.06 0.01 ]\n",
      "it 8: delta=0.98, sigma2=0.41, X=[-6.9 -4.9 -2.9 -1.0 1.0 2.9 4.9 6.9 ], pX=[0.01 0.05 0.17 0.26 0.27 0.16 0.06 0.01 ]\n",
      "it 9: delta=0.99, sigma2=0.32, X=[-6.9 -5.0 -3.0 -1.0 1.0 3.0 5.0 6.9 ], pX=[0.01 0.05 0.17 0.27 0.27 0.16 0.06 0.01 ]\n",
      "it 10: delta=1.00, sigma2=0.27, X=[-7.0 -5.0 -3.0 -1.0 1.0 3.0 5.0 7.0 ], pX=[0.01 0.05 0.17 0.27 0.27 0.16 0.06 0.01 ]\n",
      "it 11: delta=1.00, sigma2=0.24, X=[-7.0 -5.0 -3.0 -1.0 1.0 3.0 5.0 7.0 ], pX=[0.01 0.05 0.17 0.27 0.27 0.16 0.06 0.01 ]\n",
      "it 12: delta=1.00, sigma2=0.24, X=[-7.0 -5.0 -3.0 -1.0 1.0 3.0 5.0 7.0 ], pX=[0.01 0.05 0.17 0.27 0.27 0.16 0.06 0.01 ]\n",
      "it 13: delta=1.00, sigma2=0.23, X=[-7.0 -5.0 -3.0 -1.0 1.0 3.0 5.0 7.0 ], pX=[0.01 0.05 0.17 0.27 0.27 0.16 0.06 0.01 ]\n",
      "it 14: delta=1.00, sigma2=0.23, X=[-7.0 -5.0 -3.0 -1.0 1.0 3.0 5.0 7.0 ], pX=[0.01 0.05 0.17 0.27 0.27 0.16 0.06 0.01 ]\n",
      "it 15: delta=1.00, sigma2=0.23, X=[-7.0 -5.0 -3.0 -1.0 1.0 3.0 5.0 7.0 ], pX=[0.01 0.05 0.17 0.27 0.27 0.16 0.06 0.01 ]\n",
      "it 16: delta=1.00, sigma2=0.23, X=[-7.0 -5.0 -3.0 -1.0 1.0 3.0 5.0 7.0 ], pX=[0.01 0.05 0.17 0.27 0.27 0.16 0.06 0.01 ]\n",
      "it 17: delta=1.00, sigma2=0.23, X=[-7.0 -5.0 -3.0 -1.0 1.0 3.0 5.0 7.0 ], pX=[0.01 0.05 0.17 0.27 0.27 0.16 0.06 0.01 ]\n",
      "it 18: delta=1.00, sigma2=0.23, X=[-7.0 -5.0 -3.0 -1.0 1.0 3.0 5.0 7.0 ], pX=[0.01 0.05 0.17 0.27 0.27 0.16 0.06 0.01 ]\n",
      "it 19: delta=1.00, sigma2=0.23, X=[-7.0 -5.0 -3.0 -1.0 1.0 3.0 5.0 7.0 ], pX=[0.01 0.05 0.17 0.27 0.27 0.16 0.06 0.01 ]\n",
      "Sigma2: 0.233\n",
      "Delta: 1.002\n",
      "P_X: 0.01, 0.05, 0.17, 0.27, 0.27, 0.16, 0.06, 0.01\n",
      "X: -7.02, -5.01, -3.01, -1.00, 1.00, 3.01, 5.01, 7.02\n"
     ]
    }
   ],
   "source": [
    "# run EM\n",
    "X_init = np.linspace(np.min(y), np.max(y), M)\n",
    "pX_init = np.ones(M)/M # uniform\n",
    "sigma2_init = 1\n",
    "delta_init = 1\n",
    "num_iter = 20\n",
    "params_out = em(y, X_init, pX_init, sigma2_init, delta_init, num_iter)\n",
    "#print(params_out)\n",
    "\n",
    "print(\"Sigma2: {:.3f}\".format(params_out['sigma2']))\n",
    "print(\"Delta: {:.3f}\".format(params_out['delta']))\n",
    "print(\"P_X: {:.2f}, {:.2f}, {:.2f}, {:.2f}, {:.2f}, {:.2f}, {:.2f}, {:.2f}\".format(*params_out['pX']))\n",
    "print(\"X: {:.2f}, {:.2f}, {:.2f}, {:.2f}, {:.2f}, {:.2f}, {:.2f}, {:.2f}\".format(*params_out['X']))"
   ]
  },
  {
   "cell_type": "markdown",
   "id": "1b569b9a",
   "metadata": {},
   "source": [
    "**Plot the distribution $p_Y$ with the parameters estimated by the EM algorithm**"
   ]
  },
  {
   "cell_type": "code",
   "execution_count": 27,
   "id": "280d9471",
   "metadata": {},
   "outputs": [
    {
     "data": {
      "image/png": "[encoded data removed]",
      "text/plain": [
       "<Figure size 432x288 with 1 Axes>"
      ]
     },
     "metadata": {
      "needs_background": "light"
     },
     "output_type": "display_data"
    }
   ],
   "source": [
    "# plot\n",
    "estim_py = awgn_pY(yrange,params_out['X'],params_out['pX'],params_out['sigma2'])\n",
    "plt.plot(yrange, py, yrange, estim_py)\n",
    "plt.show()"
   ]
  },
  {
   "cell_type": "markdown",
   "id": "2f47a431",
   "metadata": {},
   "source": [
    "**We will now use the python library *scikit-learn* to run the EM algorithm**\n",
    "\n",
    "see https://scikit-learn.org/"
   ]
  },
  {
   "cell_type": "code",
   "execution_count": 28,
   "id": "39f24fef",
   "metadata": {},
   "outputs": [],
   "source": [
    "from sklearn.mixture import GaussianMixture"
   ]
  },
  {
   "cell_type": "markdown",
   "id": "f58ebaab",
   "metadata": {},
   "source": [
    "scikit-learn can run the EM algorithm for Gaussian mixture models using *sklearn.mixture.GaussianMixture*, see https://scikit-learn.org/stable/modules/generated/sklearn.mixture.GaussianMixture.html\n",
    "\n",
    "In this model, the inputs $X$ are called *means* and the probabilities $p_X$ of the inputs are called *weights*."
   ]
  },
  {
   "cell_type": "code",
   "execution_count": 29,
   "id": "961cd752",
   "metadata": {},
   "outputs": [
    {
     "data": {
      "text/plain": [
       "GaussianMixture(covariance_type='tied',\n",
       "                means_init=array([[-8.06440558],\n",
       "       [-5.75701757],\n",
       "       [-3.44962957],\n",
       "       [-1.14224156],\n",
       "       [ 1.16514644],\n",
       "       [ 3.47253444],\n",
       "       [ 5.77992245],\n",
       "       [ 8.08731045]]),\n",
       "                n_components=8, precisions_init=array([[1.]]),\n",
       "                weights_init=array([0.125, 0.125, 0.125, 0.125, 0.125, 0.125, 0.125, 0.125]))"
      ]
     },
     "execution_count": 29,
     "metadata": {},
     "output_type": "execute_result"
    }
   ],
   "source": [
    "# Init parameters\n",
    "means_init = np.linspace(np.min(y), np.max(y), M).reshape(M,1)\n",
    "weights_init = np.ones(M)/M # uniform\n",
    "sigma2_init = 1\n",
    "\n",
    "# Run EM\n",
    "gm = GaussianMixture(n_components=M,\n",
    "                     covariance_type='tied',\n",
    "                     n_init=1,\n",
    "                     weights_init=weights_init,\n",
    "                     means_init=means_init,\n",
    "                     precisions_init=np.array([1/sigma2_init,]).reshape(1,1),\n",
    ")\n",
    "gm.fit(y.reshape(-1,1))"
   ]
  },
  {
   "cell_type": "code",
   "execution_count": 30,
   "id": "1b2a52b4",
   "metadata": {},
   "outputs": [
    {
     "name": "stdout",
     "output_type": "stream",
     "text": [
      "Sigma2: 0.235\n",
      "P_X: 0.01, 0.05, 0.17, 0.27, 0.27, 0.16, 0.06, 0.01\n",
      "X: -7.04, -5.01, -3.01, -1.00, 1.00, 3.02, 5.02, 6.95\n"
     ]
    }
   ],
   "source": [
    "print(\"Sigma2: {:.3f}\".format(*gm.covariances_[0] ))\n",
    "print(\"P_X: {:.2f}, {:.2f}, {:.2f}, {:.2f}, {:.2f}, {:.2f}, {:.2f}, {:.2f}\".format(*gm.weights_))\n",
    "print(\"X: {:.2f}, {:.2f}, {:.2f}, {:.2f}, {:.2f}, {:.2f}, {:.2f}, {:.2f}\".format(*gm.means_.reshape(1,-1)[0]))"
   ]
  },
  {
   "cell_type": "code",
   "execution_count": 53,
   "id": "96306c27",
   "metadata": {},
   "outputs": [
    {
     "data": {
      "image/png": "[encoded data removed]",
      "text/plain": [
       "<Figure size 432x288 with 1 Axes>"
      ]
     },
     "metadata": {
      "needs_background": "light"
     },
     "output_type": "display_data"
    }
   ],
   "source": [
    "# plot\n",
    "estim_py = awgn_pY(yrange,gm.means_,gm.weights_,gm.covariances_[0])\n",
    "plt.plot(yrange, py, yrange, estim_py)\n",
    "plt.show()"
   ]
  },
  {
   "cell_type": "code",
   "execution_count": 31,
   "id": "4ee96a61",
   "metadata": {},
   "outputs": [
    {
     "data": {
      "text/plain": [
       "10"
      ]
     },
     "execution_count": 31,
     "metadata": {},
     "output_type": "execute_result"
    }
   ],
   "source": [
    "gm.n_iter_"
   ]
  },
  {
   "cell_type": "code",
   "execution_count": null,
   "id": "91305c04",
   "metadata": {},
   "outputs": [],
   "source": []
  }
 ],
 "metadata": {
  "kernelspec": {
   "display_name": "Python 3 (ipykernel)",
   "language": "python",
   "name": "python3"
  },
  "language_info": {
   "codemirror_mode": {
    "name": "ipython",
    "version": 3
   },
   "file_extension": ".py",
   "mimetype": "text/x-python",
   "name": "python",
   "nbconvert_exporter": "python",
   "pygments_lexer": "ipython3",
   "version": "3.9.2"
  }
 },
 "nbformat": 4,
 "nbformat_minor": 5
}
