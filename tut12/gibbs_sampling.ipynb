{
 "cells": [
  {
   "cell_type": "code",
   "execution_count": null,
   "id": "1eb050b5",
   "metadata": {},
   "outputs": [],
   "source": [
    "import numpy as np\n",
    "import scipy.stats\n",
    "import matplotlib.pyplot as plt"
   ]
  },
  {
   "cell_type": "markdown",
   "id": "78cf47e2",
   "metadata": {},
   "source": [
    "## Tutorial 12\n",
    "### Problem 1 :  Gibbs Sampling for MIMO Channel\n",
    "We consider a point-to-point MIMO system with $N_t$ transmit and $N_r$ receive antennas over a frequency\n",
    "flat fading channel $H$. The\n",
    "corresponding channel model is\n",
    "\n",
    "$$\\underline{Y} = H\\underline{X} + \\underline{N}$$\n",
    "where $\\underline{X} \\sim \\mathcal{N}(\\underline{0},\\sigma_{x}^2I)$ and $\\underline{N} \\sim \\mathcal{N}(\\underline{0},\\sigma_{n}^2I)$. The entries of $H$ are\n",
    "assumed iid zero-mean and unit-variance Gaussian.\n"
   ]
  },
  {
   "cell_type": "markdown",
   "id": "ff3991aa",
   "metadata": {},
   "source": [
    "**a)** Implement the system model so that you can obtain received samples $\\vec{y}$."
   ]
  },
  {
   "cell_type": "code",
   "execution_count": null,
   "id": "dac6ee4e",
   "metadata": {},
   "outputs": [],
   "source": [
    "# Parameters\n",
    "Nt = 4 # number of transmit antennas\n",
    "Nr = 2 # number of receive antennas\n",
    "sigma2x = 2 # variance of transmit signal\n",
    "sigma2n = 3 # variance of noise"
   ]
  },
  {
   "cell_type": "code",
   "execution_count": null,
   "id": "ba9467d1",
   "metadata": {},
   "outputs": [],
   "source": [
    "# System model\n",
    "H = # ...\n",
    "x = # ...\n",
    "n = # ...\n",
    "y = # ..."
   ]
  },
  {
   "cell_type": "markdown",
   "id": "e83d6425",
   "metadata": {},
   "source": [
    "**b)** Implement the closed form expression for the mean-square error estimate."
   ]
  },
  {
   "cell_type": "code",
   "execution_count": null,
   "id": "6a2e7650",
   "metadata": {},
   "outputs": [],
   "source": [
    "# Closed form solution\n",
    "Cx = # ...\n",
    "Cn = # ...\n",
    "Cy = # ...\n",
    "xhat = # ...\n",
    "print(f'Closed form solution:\\n {xhat}')"
   ]
  },
  {
   "cell_type": "markdown",
   "id": "58917853",
   "metadata": {},
   "source": [
    "**d)** Implement a Gibbs sampler using the previously derived expressions."
   ]
  },
  {
   "cell_type": "code",
   "execution_count": null,
   "id": "4df89158",
   "metadata": {},
   "outputs": [],
   "source": [
    "def gibbs_sampling(sample_fun, y, x0, num_samples):\n",
    "    \"\"\"\n",
    "    Implements the Gibbs sampling procedure.\n",
    "    The parameter sample_fun is a function handle that\n",
    "    implements the sampling from the individual conditional\n",
    "    component distributions. Its signature is:\n",
    "\n",
    "    def sample_fun(k, x0): pass\n",
    "\n",
    "    where k defines the component and x0 is the vector that specifies\n",
    "    in which the other components should be evaluated.\n",
    "    \n",
    "    Returns a matrix x of size Nt x num_samples that contains the samples\n",
    "    returned by the sample_fun()\n",
    "    \"\"\"\n",
    "\n",
    "    Nt = x0.shape[0]\n",
    "    x = np.empty((Nt,num_samples), dtype=float)\n",
    "\n",
    "    s  = 0\n",
    "\n",
    "    while s < num_samples:\n",
    "        for k in np.arange(Nt):\n",
    "            # ...\n",
    "            # ...\n",
    "        # ...\n",
    "    \n",
    "    return x\n",
    "\n",
    "def sampling_funs(y, H, k, x0):\n",
    "    \"\"\"\n",
    "    Implements the actual sampling for the conditional mean case. The intermediate steps\n",
    "    and quantities (means, covariance matrices, etc.) have been derived and explained\n",
    "    in the lecture notes.    \n",
    "    \"\"\"\n",
    "\n",
    "    # ...\n",
    "    # ...\n",
    "    # ...\n",
    "    # ...\n",
    "\n",
    "    return np.random.randn(1,1) * np.sqrt(sigma2) + mu"
   ]
  },
  {
   "cell_type": "code",
   "execution_count": null,
   "id": "9489e45e",
   "metadata": {},
   "outputs": [],
   "source": [
    "# calculate xhat thorugh Gibbs sampling\n",
    "x0 = np.random.randn(Nt,1)\n",
    "num_samples = 1000\n",
    "x = gibbs_sampling(lambda k, x0: sampling_funs(y, H, k, x0), y, x0, num_samples)"
   ]
  },
  {
   "cell_type": "code",
   "execution_count": null,
   "id": "16a695ff",
   "metadata": {},
   "outputs": [],
   "source": [
    "print(f'Closed form solution:\\n {xhat}')\n",
    "print(f'Gibbs sampling approximation:\\n {np.mean(x,axis=1).reshape(xhat.shape)}')"
   ]
  },
  {
   "cell_type": "markdown",
   "id": "b2a28e5f",
   "metadata": {},
   "source": [
    "**d)** Compare the quality of the Gibbs sampler for different sampling strategies."
   ]
  },
  {
   "cell_type": "code",
   "execution_count": null,
   "id": "b0f04fa7",
   "metadata": {},
   "outputs": [],
   "source": [
    "num_samples = 10 ** np.array([1, 2, 3, 4])\n",
    "trials = 10\n",
    "\n",
    "xhat_tmp = np.zeros((Nt, trials))\n",
    "mse = np.zeros(len(num_samples))\n",
    "\n",
    "for i in range(len(num_samples)):\n",
    "    print('Working on sample size: {}\\n'.format(num_samples[i]))\n",
    "    for j in range(trials):\n",
    "        print(' {}'.format(j), end =\" \")\n",
    "        # ...\n",
    "        # ...\n",
    "        # ...\n",
    "   \n",
    "    # ...\n",
    "    # ..."
   ]
  },
  {
   "cell_type": "code",
   "execution_count": null,
   "id": "4a06c667",
   "metadata": {},
   "outputs": [],
   "source": [
    "plt.loglog(num_samples, mse)\n",
    "plt.xlabel('Number of samples')\n",
    "plt.ylabel('E[||x_mmse - x_mmse_gibbs||^2]')\n",
    "plt.grid()\n",
    "plt.show()"
   ]
  },
  {
   "cell_type": "code",
   "execution_count": null,
   "id": "db9630ac",
   "metadata": {},
   "outputs": [],
   "source": []
  }
 ],
 "metadata": {
  "kernelspec": {
   "display_name": "Python 3 (ipykernel)",
   "language": "python",
   "name": "python3"
  },
  "language_info": {
   "codemirror_mode": {
    "name": "ipython",
    "version": 3
   },
   "file_extension": ".py",
   "mimetype": "text/x-python",
   "name": "python",
   "nbconvert_exporter": "python",
   "pygments_lexer": "ipython3",
   "version": "3.9.2"
  }
 },
 "nbformat": 4,
 "nbformat_minor": 5
}
